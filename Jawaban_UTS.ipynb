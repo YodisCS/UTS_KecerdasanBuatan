{
 "cells": [
  {
   "cell_type": "markdown",
   "metadata": {},
   "source": [
    "Nama : Yodis Saputra\n",
    "\n",
    "NIM : 221011401829\n",
    "\n",
    "Kelas : 05TPLE016"
   ]
  },
  {
   "cell_type": "code",
   "execution_count": 15,
   "metadata": {},
   "outputs": [],
   "source": [
    "# Data\n",
    "\n",
    "company_detail_list = [\n",
    "      {\n",
    "          'name': 'Company 1',\n",
    "          'domain': 'Retail',\n",
    "          'country': 'United States'\n",
    "      },\n",
    "      {\n",
    "          'name': 'Company 2',\n",
    "          'domain': 'Technology',\n",
    "          'country': 'United Kingdom'\n",
    "      },\n",
    "      {\n",
    "          'name': 'Company 3',\n",
    "          'domain': 'Healthcare',\n",
    "          'country': 'United States'\n",
    "      }\n",
    "  ]\n",
    "\n",
    "employee_detail_list = [\n",
    "     {\n",
    "          'name': 'EMP-0001',\n",
    "          'first_name': 'John',\n",
    "          'last_name': 'Doe',\n",
    "          'full_name': 'John Doe',\n",
    "          'company': 'Company 1',\n",
    "          'nationality': 'Australia'\n",
    "      },\n",
    "      {\n",
    "          'name': 'EMP-0002',\n",
    "          'first_name': 'Tom',\n",
    "          'last_name': 'Smith',\n",
    "          'full_name': 'Tom Smith',\n",
    "          'company': 'Company 2',\n",
    "          'nationality': 'United States'\n",
    "      },\n",
    "      {\n",
    "          'name': 'EMP-0003',\n",
    "          'first_name': 'Andrew',\n",
    "          'last_name': 'Sebastian',\n",
    "          'full_name': 'Andrew Sebastian',\n",
    "          'company': 'Company 3',\n",
    "          'nationality': 'United States'\n",
    "      },\n",
    "      {\n",
    "          'name': 'EMP-0005',\n",
    "          'first_name': 'Ying Han',\n",
    "          'last_name': 'Tan',\n",
    "          'full_name': 'Ying Han Tan',\n",
    "          'company': 'Company 1',\n",
    "          'nationality': 'Australia'\n",
    "      },\n",
    "      {\n",
    "          'name': 'EMP-0015',\n",
    "          'first_name': 'Kenneth',\n",
    "          'last_name': 'Ng',\n",
    "          'full_name': 'Kenneth Ng',\n",
    "          'company': 'Company 3',\n",
    "          'nationality': 'United States'\n",
    "      },\n",
    "      {\n",
    "          'name': 'EMP-0018',\n",
    "          'first_name': 'Rubby',\n",
    "          'last_name': 'Lee',\n",
    "          'full_name': 'Rubby Lee',\n",
    "          'company': 'Company 2',\n",
    "          'nationality': 'Hong Kong'\n",
    "      },\n",
    "     {\n",
    "          'name': 'EMP-0017',\n",
    "          'first_name': 'Robert',\n",
    "          'last_name': 'White',\n",
    "          'full_name': 'Robert White',\n",
    "          'company': 'Company 1',\n",
    "          'nationality': 'United Kingdom'\n",
    "      }\n",
    "  ]"
   ]
  },
  {
   "cell_type": "code",
   "execution_count": 16,
   "metadata": {},
   "outputs": [
    {
     "name": "stdout",
     "output_type": "stream",
     "text": [
      "[\n",
      "    {\n",
      "        \"name\": \"Company 3\"\n",
      "    },\n",
      "    {\n",
      "        \"name\": \"Company 2\"\n",
      "    },\n",
      "    {\n",
      "        \"name\": \"Company 1\"\n",
      "    }\n",
      "]\n"
     ]
    }
   ],
   "source": [
    "# Task 1: Get all companies sorted by name in reverse order\n",
    "# Tugas 1: Dapatkan daftar semua perusahaan dan urutan berdasarkan nama secara terbalik\n",
    "sorted_companies = sorted([{'name': company['name']} for company in company_detail_list], key=lambda x: x['name'], reverse=True)\n",
    "\n",
    "import json\n",
    "formatted_output_task1 = json.dumps(sorted_companies, indent=4)\n",
    "print(formatted_output_task1)"
   ]
  },
  {
   "cell_type": "code",
   "execution_count": 17,
   "metadata": {},
   "outputs": [
    {
     "name": "stdout",
     "output_type": "stream",
     "text": [
      "Company 1: Retail (United States)\n",
      "Company 2: Technology (United Kingdom)\n",
      "Company 3: Healthcare (United States)\n"
     ]
    }
   ],
   "source": [
    "# Task 2: Print all Domain value in every company\n",
    "# Tugas 2: Cetak semua nilai domain pada setiap perusahaan\n",
    "for company in company_detail_list:\n",
    "    print(f\"{company['name']}: {company['domain']} ({company['country']})\")\n"
   ]
  },
  {
   "cell_type": "code",
   "execution_count": 18,
   "metadata": {},
   "outputs": [
    {
     "name": "stdout",
     "output_type": "stream",
     "text": [
      "{\n",
      "    \"Retail\": [\n",
      "        \"John Doe\",\n",
      "        \"Ying Han Tan\",\n",
      "        \"Robert White\"\n",
      "    ],\n",
      "    \"Technology\": [\n",
      "        \"Tom Smith\",\n",
      "        \"Rubby Lee\"\n",
      "    ],\n",
      "    \"Healthcare\": [\n",
      "        \"Andrew Sebastian\",\n",
      "        \"Kenneth Ng\"\n",
      "    ]\n",
      "}\n"
     ]
    }
   ],
   "source": [
    "# Task 3: List all employees by company domain\n",
    "# Tugas 3: Daftar karyawan berdasarkan domain perusahaan\n",
    "import json\n",
    "\n",
    "domain_employee_map = {}\n",
    "for company in company_detail_list:\n",
    "    employees = [emp['full_name'] for emp in employee_detail_list if emp['company'] == company['name']]\n",
    "    domain_employee_map[company['domain']] = employees\n",
    "\n",
    "print(json.dumps(domain_employee_map, indent=4))\n"
   ]
  },
  {
   "cell_type": "code",
   "execution_count": 19,
   "metadata": {},
   "outputs": [
    {
     "name": "stdout",
     "output_type": "stream",
     "text": [
      "[\n",
      "    {\n",
      "        \"full_name\": \"John Doe\",\n",
      "        \"company\": \"Company 1\",\n",
      "        \"country\": \"United States\"\n",
      "    },\n",
      "    {\n",
      "        \"full_name\": \"Tom Smith\",\n",
      "        \"company\": \"Company 2\",\n",
      "        \"country\": \"United Kingdom\"\n",
      "    },\n",
      "    {\n",
      "        \"full_name\": \"Andrew Sebastian\",\n",
      "        \"company\": \"Company 3\",\n",
      "        \"country\": \"United States\"\n",
      "    },\n",
      "    {\n",
      "        \"full_name\": \"Ying Han Tan\",\n",
      "        \"company\": \"Company 1\",\n",
      "        \"country\": \"United States\"\n",
      "    },\n",
      "    {\n",
      "        \"full_name\": \"Kenneth Ng\",\n",
      "        \"company\": \"Company 3\",\n",
      "        \"country\": \"United States\"\n",
      "    },\n",
      "    {\n",
      "        \"full_name\": \"Rubby Lee\",\n",
      "        \"company\": \"Company 2\",\n",
      "        \"country\": \"United Kingdom\"\n",
      "    },\n",
      "    {\n",
      "        \"full_name\": \"Robert White\",\n",
      "        \"company\": \"Company 1\",\n",
      "        \"country\": \"United States\"\n",
      "    }\n",
      "]\n"
     ]
    }
   ],
   "source": [
    "# Task 4: Return employees with company country\n",
    "# Tugas 4: Mengembalikan karyawan dengan negara perusahaan\n",
    "import json\n",
    "\n",
    "employees_with_country = [\n",
    "    {\n",
    "        'full_name': emp['full_name'],\n",
    "        'company': emp['company'],\n",
    "        'country': next(comp['country'] for comp in company_detail_list if comp['name'] == emp['company'])\n",
    "    }\n",
    "    for emp in employee_detail_list\n",
    "]\n",
    "\n",
    "print(json.dumps(employees_with_country, indent=4))"
   ]
  },
  {
   "cell_type": "code",
   "execution_count": 20,
   "metadata": {},
   "outputs": [
    {
     "name": "stdout",
     "output_type": "stream",
     "text": [
      "[\n",
      "    {\n",
      "        \"company\": \"Company 1\",\n",
      "        \"employee_nationality\": {\n",
      "            \"Australia\": 2,\n",
      "            \"United Kingdom\": 1\n",
      "        }\n",
      "    },\n",
      "    {\n",
      "        \"company\": \"Company 2\",\n",
      "        \"employee_nationality\": {\n",
      "            \"United States\": 1,\n",
      "            \"Hong Kong\": 1\n",
      "        }\n",
      "    },\n",
      "    {\n",
      "        \"company\": \"Company 3\",\n",
      "        \"employee_nationality\": {\n",
      "            \"United States\": 2\n",
      "        }\n",
      "    }\n",
      "]\n"
     ]
    }
   ],
   "source": [
    "# Task 5: Return companies with a number of employees' nationality\n",
    "# Tugas 5: Mengembalikan perusahaan dengan jumlah kebangsaan karyawan\n",
    "import json\n",
    "\n",
    "company_nationality_map = []\n",
    "for company in company_detail_list:\n",
    "    nationality_count = {}\n",
    "    employees = [emp for emp in employee_detail_list if emp['company'] == company['name']]\n",
    "    for emp in employees:\n",
    "        nationality = emp['nationality']\n",
    "        nationality_count[nationality] = nationality_count.get(nationality, 0) + 1\n",
    "    company_nationality_map.append({\n",
    "        'company': company['name'],\n",
    "        'employee_nationality': nationality_count\n",
    "    })\n",
    "\n",
    "print(json.dumps(company_nationality_map, indent=4))\n"
   ]
  }
 ],
 "metadata": {
  "kernelspec": {
   "display_name": "Python 3",
   "language": "python",
   "name": "python3"
  },
  "language_info": {
   "codemirror_mode": {
    "name": "ipython",
    "version": 3
   },
   "file_extension": ".py",
   "mimetype": "text/x-python",
   "name": "python",
   "nbconvert_exporter": "python",
   "pygments_lexer": "ipython3",
   "version": "3.12.3"
  }
 },
 "nbformat": 4,
 "nbformat_minor": 2
}
